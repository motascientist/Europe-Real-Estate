{
 "cells": [
  {
   "cell_type": "markdown",
   "id": "8253e179",
   "metadata": {},
   "source": [
    "## Libraries"
   ]
  },
  {
   "cell_type": "code",
   "execution_count": 1,
   "id": "68426eb5",
   "metadata": {},
   "outputs": [],
   "source": [
    "import pandas as pd\n",
    "import numpy as np\n",
    "from urllib.parse import urlparse"
   ]
  },
  {
   "cell_type": "markdown",
   "id": "87b0fab5",
   "metadata": {},
   "source": [
    "## Extract"
   ]
  },
  {
   "cell_type": "code",
   "execution_count": 2,
   "id": "a3fe8648",
   "metadata": {},
   "outputs": [],
   "source": [
    "montenero = pd.read_csv('porta-romana-cadore-montenero_2023-12-29.csv')\n",
    "medaglie = pd.read_csv('porta-romana-medaglie-d-oro_2023-12-29.csv')\n",
    "\n",
    "# Concatenar os DataFrames\n",
    "concatenated_df = pd.concat([montenero, medaglie], ignore_index=True)\n",
    "\n",
    "# Salvar o DataFrame resultante em um novo arquivo CSV, se necessário\n",
    "concatenated_df.to_csv('concatenated_data.csv', index=False)"
   ]
  },
  {
   "cell_type": "code",
   "execution_count": 3,
   "id": "65110cc3",
   "metadata": {},
   "outputs": [],
   "source": [
    "df = pd.read_csv('concatenated_data.csv')"
   ]
  },
  {
   "cell_type": "code",
   "execution_count": 4,
   "id": "ca815364",
   "metadata": {},
   "outputs": [],
   "source": [
    "# Função para extrair o último número da URL\n",
    "def extract_house_id(url):\n",
    "    parsed_url = urlparse(url)\n",
    "    path_segments = parsed_url.path.split('/')\n",
    "    for segment in reversed(path_segments):\n",
    "        if segment.isdigit():\n",
    "            return int(segment)\n",
    "    return None\n",
    "\n",
    "# Aplicar a função à coluna 'links' para criar a coluna 'house_id'\n",
    "df['house_id'] = df['links'].apply(extract_house_id)\n",
    "\n",
    "# Exibir o DataFrame resultante"
   ]
  },
  {
   "cell_type": "code",
   "execution_count": 5,
   "id": "fc0c1665",
   "metadata": {},
   "outputs": [
    {
     "data": {
      "text/html": [
       "<div>\n",
       "<style scoped>\n",
       "    .dataframe tbody tr th:only-of-type {\n",
       "        vertical-align: middle;\n",
       "    }\n",
       "\n",
       "    .dataframe tbody tr th {\n",
       "        vertical-align: top;\n",
       "    }\n",
       "\n",
       "    .dataframe thead th {\n",
       "        text-align: right;\n",
       "    }\n",
       "</style>\n",
       "<table border=\"1\" class=\"dataframe\">\n",
       "  <thead>\n",
       "    <tr style=\"text-align: right;\">\n",
       "      <th></th>\n",
       "      <th>day</th>\n",
       "      <th>district</th>\n",
       "      <th>description</th>\n",
       "      <th>rooms</th>\n",
       "      <th>m2</th>\n",
       "      <th>bathrooms</th>\n",
       "      <th>price</th>\n",
       "      <th>links</th>\n",
       "      <th>house_id</th>\n",
       "    </tr>\n",
       "  </thead>\n",
       "  <tbody>\n",
       "    <tr>\n",
       "      <th>0</th>\n",
       "      <td>2023-12-29</td>\n",
       "      <td>porta-romana-cadore-montenero</td>\n",
       "      <td>2-room flat viale Umbria 64, Martini - Insubri...</td>\n",
       "      <td>2</td>\n",
       "      <td>50m²</td>\n",
       "      <td>1</td>\n",
       "      <td>€ 325,000</td>\n",
       "      <td>https://www.immobiliare.it/en/annunci/108349979/</td>\n",
       "      <td>108349979</td>\n",
       "    </tr>\n",
       "    <tr>\n",
       "      <th>1</th>\n",
       "      <td>2023-12-29</td>\n",
       "      <td>porta-romana-cadore-montenero</td>\n",
       "      <td>2-room flat via Carlo Botta 39, Porta Romana -...</td>\n",
       "      <td>2</td>\n",
       "      <td>68m²</td>\n",
       "      <td>1</td>\n",
       "      <td>€ 399,000</td>\n",
       "      <td>https://www.immobiliare.it/en/annunci/108346881/</td>\n",
       "      <td>108346881</td>\n",
       "    </tr>\n",
       "    <tr>\n",
       "      <th>2</th>\n",
       "      <td>2023-12-29</td>\n",
       "      <td>porta-romana-cadore-montenero</td>\n",
       "      <td>Penthouse viale Monte Nero, Montenero, Milan</td>\n",
       "      <td>4</td>\n",
       "      <td>140m²</td>\n",
       "      <td>2</td>\n",
       "      <td>€ 1,100,000</td>\n",
       "      <td>https://www.immobiliare.it/en/annunci/108337689/</td>\n",
       "      <td>108337689</td>\n",
       "    </tr>\n",
       "    <tr>\n",
       "      <th>3</th>\n",
       "      <td>2023-12-29</td>\n",
       "      <td>porta-romana-cadore-montenero</td>\n",
       "      <td>Loft viale Umbria, Martini - Insubria, Milan</td>\n",
       "      <td>1</td>\n",
       "      <td>60m²</td>\n",
       "      <td>1</td>\n",
       "      <td>€ 290,000</td>\n",
       "      <td>https://www.immobiliare.it/en/annunci/108340651/</td>\n",
       "      <td>108340651</td>\n",
       "    </tr>\n",
       "    <tr>\n",
       "      <th>4</th>\n",
       "      <td>2023-12-29</td>\n",
       "      <td>porta-romana-cadore-montenero</td>\n",
       "      <td>Apartment via Adige, Porta Romana - Medaglie d...</td>\n",
       "      <td>5</td>\n",
       "      <td>283m²</td>\n",
       "      <td>3+</td>\n",
       "      <td>€ 1,690,000</td>\n",
       "      <td>https://www.immobiliare.it/en/annunci/108317131/</td>\n",
       "      <td>108317131</td>\n",
       "    </tr>\n",
       "    <tr>\n",
       "      <th>...</th>\n",
       "      <td>...</td>\n",
       "      <td>...</td>\n",
       "      <td>...</td>\n",
       "      <td>...</td>\n",
       "      <td>...</td>\n",
       "      <td>...</td>\n",
       "      <td>...</td>\n",
       "      <td>...</td>\n",
       "      <td>...</td>\n",
       "    </tr>\n",
       "    <tr>\n",
       "      <th>621</th>\n",
       "      <td>2023-12-29</td>\n",
       "      <td>porta-romana-medaglie-d-oro</td>\n",
       "      <td>2-room flat viale Isonzo, Porta Romana - Medag...</td>\n",
       "      <td>2</td>\n",
       "      <td>45m²</td>\n",
       "      <td>1</td>\n",
       "      <td>€ 300,000</td>\n",
       "      <td>https://www.immobiliare.it/en/annunci/97564788/</td>\n",
       "      <td>97564788</td>\n",
       "    </tr>\n",
       "    <tr>\n",
       "      <th>622</th>\n",
       "      <td>2023-12-29</td>\n",
       "      <td>porta-romana-medaglie-d-oro</td>\n",
       "      <td>3-room flat viale Isonzo, Porta Romana - Medag...</td>\n",
       "      <td>3</td>\n",
       "      <td>85m²</td>\n",
       "      <td>2</td>\n",
       "      <td>€ 570,000</td>\n",
       "      <td>https://www.immobiliare.it/en/annunci/97564864/</td>\n",
       "      <td>97564864</td>\n",
       "    </tr>\n",
       "    <tr>\n",
       "      <th>623</th>\n",
       "      <td>2023-12-29</td>\n",
       "      <td>porta-romana-medaglie-d-oro</td>\n",
       "      <td>2-room flat Strada della Carità 2, Porta Roman...</td>\n",
       "      <td>2</td>\n",
       "      <td>70m²</td>\n",
       "      <td>1</td>\n",
       "      <td>€ 399,000</td>\n",
       "      <td>https://www.immobiliare.it/en/annunci/97151200/</td>\n",
       "      <td>97151200</td>\n",
       "    </tr>\n",
       "    <tr>\n",
       "      <th>624</th>\n",
       "      <td>2023-12-29</td>\n",
       "      <td>porta-romana-medaglie-d-oro</td>\n",
       "      <td>2-room flat via Adige 20, Porta Romana - Medag...</td>\n",
       "      <td>2</td>\n",
       "      <td>50m²</td>\n",
       "      <td>1</td>\n",
       "      <td>€ 340,000</td>\n",
       "      <td>https://www.immobiliare.it/en/annunci/96513822/</td>\n",
       "      <td>96513822</td>\n",
       "    </tr>\n",
       "    <tr>\n",
       "      <th>625</th>\n",
       "      <td>2023-12-29</td>\n",
       "      <td>porta-romana-medaglie-d-oro</td>\n",
       "      <td>3-room flat to be refurbished, third floor, Po...</td>\n",
       "      <td>3</td>\n",
       "      <td>90m²</td>\n",
       "      <td>1</td>\n",
       "      <td>€ 570,000</td>\n",
       "      <td>https://www.immobiliare.it/en/annunci/95248548/</td>\n",
       "      <td>95248548</td>\n",
       "    </tr>\n",
       "  </tbody>\n",
       "</table>\n",
       "<p>626 rows × 9 columns</p>\n",
       "</div>"
      ],
      "text/plain": [
       "            day                       district  \\\n",
       "0    2023-12-29  porta-romana-cadore-montenero   \n",
       "1    2023-12-29  porta-romana-cadore-montenero   \n",
       "2    2023-12-29  porta-romana-cadore-montenero   \n",
       "3    2023-12-29  porta-romana-cadore-montenero   \n",
       "4    2023-12-29  porta-romana-cadore-montenero   \n",
       "..          ...                            ...   \n",
       "621  2023-12-29    porta-romana-medaglie-d-oro   \n",
       "622  2023-12-29    porta-romana-medaglie-d-oro   \n",
       "623  2023-12-29    porta-romana-medaglie-d-oro   \n",
       "624  2023-12-29    porta-romana-medaglie-d-oro   \n",
       "625  2023-12-29    porta-romana-medaglie-d-oro   \n",
       "\n",
       "                                           description rooms     m2 bathrooms  \\\n",
       "0    2-room flat viale Umbria 64, Martini - Insubri...     2   50m²         1   \n",
       "1    2-room flat via Carlo Botta 39, Porta Romana -...     2   68m²         1   \n",
       "2         Penthouse viale Monte Nero, Montenero, Milan     4  140m²         2   \n",
       "3         Loft viale Umbria, Martini - Insubria, Milan     1   60m²         1   \n",
       "4    Apartment via Adige, Porta Romana - Medaglie d...     5  283m²        3+   \n",
       "..                                                 ...   ...    ...       ...   \n",
       "621  2-room flat viale Isonzo, Porta Romana - Medag...     2   45m²         1   \n",
       "622  3-room flat viale Isonzo, Porta Romana - Medag...     3   85m²         2   \n",
       "623  2-room flat Strada della Carità 2, Porta Roman...     2   70m²         1   \n",
       "624  2-room flat via Adige 20, Porta Romana - Medag...     2   50m²         1   \n",
       "625  3-room flat to be refurbished, third floor, Po...     3   90m²         1   \n",
       "\n",
       "           price                                             links   house_id  \n",
       "0      € 325,000  https://www.immobiliare.it/en/annunci/108349979/  108349979  \n",
       "1      € 399,000  https://www.immobiliare.it/en/annunci/108346881/  108346881  \n",
       "2    € 1,100,000  https://www.immobiliare.it/en/annunci/108337689/  108337689  \n",
       "3      € 290,000  https://www.immobiliare.it/en/annunci/108340651/  108340651  \n",
       "4    € 1,690,000  https://www.immobiliare.it/en/annunci/108317131/  108317131  \n",
       "..           ...                                               ...        ...  \n",
       "621    € 300,000   https://www.immobiliare.it/en/annunci/97564788/   97564788  \n",
       "622    € 570,000   https://www.immobiliare.it/en/annunci/97564864/   97564864  \n",
       "623    € 399,000   https://www.immobiliare.it/en/annunci/97151200/   97151200  \n",
       "624    € 340,000   https://www.immobiliare.it/en/annunci/96513822/   96513822  \n",
       "625    € 570,000   https://www.immobiliare.it/en/annunci/95248548/   95248548  \n",
       "\n",
       "[626 rows x 9 columns]"
      ]
     },
     "metadata": {},
     "output_type": "display_data"
    }
   ],
   "source": [
    "display(df)"
   ]
  },
  {
   "cell_type": "markdown",
   "id": "a05f7ca5",
   "metadata": {},
   "source": [
    "## Treatment"
   ]
  },
  {
   "cell_type": "markdown",
   "id": "148d9ef7",
   "metadata": {},
   "source": [
    "### Rooms"
   ]
  },
  {
   "cell_type": "code",
   "execution_count": 6,
   "id": "9e2567cc",
   "metadata": {},
   "outputs": [
    {
     "data": {
      "text/plain": [
       "day            object\n",
       "district       object\n",
       "description    object\n",
       "rooms          object\n",
       "m2             object\n",
       "bathrooms      object\n",
       "price          object\n",
       "links          object\n",
       "house_id        int64\n",
       "dtype: object"
      ]
     },
     "execution_count": 6,
     "metadata": {},
     "output_type": "execute_result"
    }
   ],
   "source": [
    "df.dtypes"
   ]
  },
  {
   "cell_type": "code",
   "execution_count": 7,
   "id": "727ccfd7",
   "metadata": {},
   "outputs": [
    {
     "data": {
      "text/plain": [
       "3        220\n",
       "2        208\n",
       "4         93\n",
       "1         33\n",
       "5+        32\n",
       "5         31\n",
       "1 - 3      1\n",
       "1 - 2      1\n",
       "3 - 4      1\n",
       "Name: rooms, dtype: int64"
      ]
     },
     "execution_count": 7,
     "metadata": {},
     "output_type": "execute_result"
    }
   ],
   "source": [
    "df['rooms'].value_counts()"
   ]
  },
  {
   "cell_type": "code",
   "execution_count": 8,
   "id": "5895a610",
   "metadata": {},
   "outputs": [],
   "source": [
    "def transform_rooms(value):\n",
    "    if isinstance(value, str):\n",
    "        if '+' in value:\n",
    "            return int(value[:-1])  # Remove the '+' and convert to integer\n",
    "        elif '-' in value:\n",
    "            # Extract the last number in the range\n",
    "            return int(value.split('-')[-1])\n",
    "        else:\n",
    "            return int(value)\n",
    "    else:\n",
    "        # If the value is not a string, return it as is\n",
    "        return value\n",
    "\n",
    "# Applying the function to the 'rooms' column\n",
    "df['rooms'] = df['rooms'].apply(transform_rooms)"
   ]
  },
  {
   "cell_type": "markdown",
   "id": "a4d42c8f",
   "metadata": {},
   "source": [
    "### m²"
   ]
  },
  {
   "cell_type": "code",
   "execution_count": 9,
   "id": "17cc4669",
   "metadata": {},
   "outputs": [
    {
     "data": {
      "text/plain": [
       "110m²    27\n",
       "100m²    26\n",
       "70m²     26\n",
       "50m²     21\n",
       "90m²     21\n",
       "         ..\n",
       "176m²     1\n",
       "141m²     1\n",
       "196m²     1\n",
       "44m²      1\n",
       "98m²      1\n",
       "Name: m2, Length: 128, dtype: int64"
      ]
     },
     "execution_count": 9,
     "metadata": {},
     "output_type": "execute_result"
    }
   ],
   "source": [
    "df['m2'].value_counts()"
   ]
  },
  {
   "cell_type": "code",
   "execution_count": 10,
   "id": "d1c893c2",
   "metadata": {},
   "outputs": [
    {
     "name": "stdout",
     "output_type": "stream",
     "text": [
      "110    27\n",
      "100    26\n",
      "70     26\n",
      "50     21\n",
      "90     21\n",
      "       ..\n",
      "176     1\n",
      "141     1\n",
      "196     1\n",
      "44      1\n",
      "98      1\n",
      "Name: m2, Length: 128, dtype: int64\n"
     ]
    }
   ],
   "source": [
    "def remove_square_meter(value):\n",
    "    # Check if the value is a string\n",
    "    if isinstance(value, str):\n",
    "        # Remove \"m²\" and return the cleaned string\n",
    "        return value.replace('m²', '').strip()\n",
    "    else:\n",
    "        # If the value is not a string (e.g., it's a float), return it as is\n",
    "        return value\n",
    "\n",
    "# Applying the function to the 'm2' column\n",
    "df['m2'] = df['m2'].apply(remove_square_meter)\n",
    "\n",
    "# Checking the result\n",
    "print(df['m2'].value_counts())\n"
   ]
  },
  {
   "cell_type": "markdown",
   "id": "83406676",
   "metadata": {},
   "source": [
    "### Bathrooms"
   ]
  },
  {
   "cell_type": "code",
   "execution_count": 11,
   "id": "18dcb66f",
   "metadata": {},
   "outputs": [
    {
     "data": {
      "text/plain": [
       "1     360\n",
       "2     199\n",
       "3      35\n",
       "3+     20\n",
       "4       2\n",
       "G       2\n",
       "8       1\n",
       "6       1\n",
       "Name: bathrooms, dtype: int64"
      ]
     },
     "execution_count": 11,
     "metadata": {},
     "output_type": "execute_result"
    }
   ],
   "source": [
    "df['bathrooms'].value_counts()"
   ]
  },
  {
   "cell_type": "code",
   "execution_count": 12,
   "id": "50a55e60",
   "metadata": {},
   "outputs": [
    {
     "data": {
      "text/html": [
       "<div>\n",
       "<style scoped>\n",
       "    .dataframe tbody tr th:only-of-type {\n",
       "        vertical-align: middle;\n",
       "    }\n",
       "\n",
       "    .dataframe tbody tr th {\n",
       "        vertical-align: top;\n",
       "    }\n",
       "\n",
       "    .dataframe thead th {\n",
       "        text-align: right;\n",
       "    }\n",
       "</style>\n",
       "<table border=\"1\" class=\"dataframe\">\n",
       "  <thead>\n",
       "    <tr style=\"text-align: right;\">\n",
       "      <th></th>\n",
       "      <th>day</th>\n",
       "      <th>district</th>\n",
       "      <th>description</th>\n",
       "      <th>rooms</th>\n",
       "      <th>m2</th>\n",
       "      <th>bathrooms</th>\n",
       "      <th>price</th>\n",
       "      <th>links</th>\n",
       "      <th>house_id</th>\n",
       "    </tr>\n",
       "  </thead>\n",
       "  <tbody>\n",
       "    <tr>\n",
       "      <th>377</th>\n",
       "      <td>2023-12-29</td>\n",
       "      <td>porta-romana-cadore-montenero</td>\n",
       "      <td>Loft via Giuseppe Ripamonti 2, Bocconi, Milan</td>\n",
       "      <td>2.0</td>\n",
       "      <td>50</td>\n",
       "      <td>G</td>\n",
       "      <td>€ 259,000</td>\n",
       "      <td>https://www.immobiliare.it/en/annunci/100790007/</td>\n",
       "      <td>100790007</td>\n",
       "    </tr>\n",
       "    <tr>\n",
       "      <th>607</th>\n",
       "      <td>2023-12-29</td>\n",
       "      <td>porta-romana-medaglie-d-oro</td>\n",
       "      <td>Loft via Giuseppe Ripamonti 2, Bocconi, Milan</td>\n",
       "      <td>2.0</td>\n",
       "      <td>50</td>\n",
       "      <td>G</td>\n",
       "      <td>€ 259,000</td>\n",
       "      <td>https://www.immobiliare.it/en/annunci/100790007/</td>\n",
       "      <td>100790007</td>\n",
       "    </tr>\n",
       "  </tbody>\n",
       "</table>\n",
       "</div>"
      ],
      "text/plain": [
       "            day                       district  \\\n",
       "377  2023-12-29  porta-romana-cadore-montenero   \n",
       "607  2023-12-29    porta-romana-medaglie-d-oro   \n",
       "\n",
       "                                       description  rooms  m2 bathrooms  \\\n",
       "377  Loft via Giuseppe Ripamonti 2, Bocconi, Milan    2.0  50         G   \n",
       "607  Loft via Giuseppe Ripamonti 2, Bocconi, Milan    2.0  50         G   \n",
       "\n",
       "         price                                             links   house_id  \n",
       "377  € 259,000  https://www.immobiliare.it/en/annunci/100790007/  100790007  \n",
       "607  € 259,000  https://www.immobiliare.it/en/annunci/100790007/  100790007  "
      ]
     },
     "execution_count": 12,
     "metadata": {},
     "output_type": "execute_result"
    }
   ],
   "source": [
    "df[df['bathrooms']=='G']"
   ]
  },
  {
   "cell_type": "code",
   "execution_count": 13,
   "id": "d105f54d",
   "metadata": {},
   "outputs": [
    {
     "name": "stdout",
     "output_type": "stream",
     "text": [
      "1.0    360\n",
      "2.0    199\n",
      "3.0     55\n",
      "4.0      2\n",
      "8.0      1\n",
      "6.0      1\n",
      "Name: bathrooms, dtype: int64\n"
     ]
    }
   ],
   "source": [
    "def transform_bathrooms(value):\n",
    "    # Check if the value is a string\n",
    "    if isinstance(value, str):\n",
    "        # Remove \"+\" and convert to integer\n",
    "        if '+' in value:\n",
    "            return int(value.replace('+', '').strip())\n",
    "        # Remove \"G\" and convert to integer\n",
    "        elif 'G' in value:\n",
    "            return None  # Returning None will effectively remove the line\n",
    "        else:\n",
    "            return int(value)\n",
    "    else:\n",
    "        # If the value is not a string (e.g., it's a float), return it as is\n",
    "        return value\n",
    "\n",
    "# Applying the function to the 'bathrooms' column\n",
    "df['bathrooms'] = df['bathrooms'].apply(transform_bathrooms)\n",
    "\n",
    "# Checking the result\n",
    "print(df['bathrooms'].value_counts())\n"
   ]
  },
  {
   "cell_type": "markdown",
   "id": "7e03872c",
   "metadata": {},
   "source": [
    "### Price"
   ]
  },
  {
   "cell_type": "code",
   "execution_count": 14,
   "id": "ad24b48e",
   "metadata": {},
   "outputs": [
    {
     "data": {
      "text/plain": [
       "€ 399,000               12\n",
       "€ 450,000               12\n",
       "€ 990,000               11\n",
       "Price on application    11\n",
       "€ 750,000               10\n",
       "                        ..\n",
       "€ 629,000                1\n",
       "€ 558,000                1\n",
       "€ 445,000                1\n",
       "€ 797,000                1\n",
       "€ 245,000                1\n",
       "Name: price, Length: 214, dtype: int64"
      ]
     },
     "execution_count": 14,
     "metadata": {},
     "output_type": "execute_result"
    }
   ],
   "source": [
    "df['price'].value_counts()"
   ]
  },
  {
   "cell_type": "code",
   "execution_count": 15,
   "id": "d04ea2d8",
   "metadata": {},
   "outputs": [
    {
     "name": "stdout",
     "output_type": "stream",
     "text": [
      "Series([], Name: price, dtype: int64)\n"
     ]
    }
   ],
   "source": [
    "import re\n",
    "\n",
    "def transform_price(value):\n",
    "    # Check if the value is a string\n",
    "    if isinstance(value, str):\n",
    "        # Check if the value is 'Price on application'\n",
    "        if value.lower() == 'price on application':\n",
    "            return None  # Returning None will effectively remove the line\n",
    "       \n",
    "    return None\n",
    "\n",
    "# Applying the function to the 'price' column\n",
    "df['price'] = df['price'].apply(transform_price)\n",
    "\n",
    "# Remove rows where 'price' is None (i.e., 'Price on application' or other non-convertible cases)\n",
    "df = df.dropna(subset=['price'])\n",
    "\n",
    "# Checking the result\n",
    "print(df['price'].value_counts())\n"
   ]
  },
  {
   "cell_type": "code",
   "execution_count": 16,
   "id": "13fc0dcc",
   "metadata": {},
   "outputs": [
    {
     "data": {
      "text/html": [
       "<div>\n",
       "<style scoped>\n",
       "    .dataframe tbody tr th:only-of-type {\n",
       "        vertical-align: middle;\n",
       "    }\n",
       "\n",
       "    .dataframe tbody tr th {\n",
       "        vertical-align: top;\n",
       "    }\n",
       "\n",
       "    .dataframe thead th {\n",
       "        text-align: right;\n",
       "    }\n",
       "</style>\n",
       "<table border=\"1\" class=\"dataframe\">\n",
       "  <thead>\n",
       "    <tr style=\"text-align: right;\">\n",
       "      <th></th>\n",
       "      <th>day</th>\n",
       "      <th>district</th>\n",
       "      <th>description</th>\n",
       "      <th>rooms</th>\n",
       "      <th>m2</th>\n",
       "      <th>bathrooms</th>\n",
       "      <th>price</th>\n",
       "      <th>links</th>\n",
       "      <th>house_id</th>\n",
       "    </tr>\n",
       "  </thead>\n",
       "  <tbody>\n",
       "  </tbody>\n",
       "</table>\n",
       "</div>"
      ],
      "text/plain": [
       "Empty DataFrame\n",
       "Columns: [day, district, description, rooms, m2, bathrooms, price, links, house_id]\n",
       "Index: []"
      ]
     },
     "execution_count": 16,
     "metadata": {},
     "output_type": "execute_result"
    }
   ],
   "source": [
    "df[df['price']=='270000 298000(-94%)']"
   ]
  },
  {
   "cell_type": "code",
   "execution_count": null,
   "id": "3fee67cd",
   "metadata": {},
   "outputs": [],
   "source": []
  },
  {
   "cell_type": "code",
   "execution_count": null,
   "id": "28af69c8",
   "metadata": {},
   "outputs": [],
   "source": []
  }
 ],
 "metadata": {
  "kernelspec": {
   "display_name": "Python 3 (ipykernel)",
   "language": "python",
   "name": "python3"
  },
  "language_info": {
   "codemirror_mode": {
    "name": "ipython",
    "version": 3
   },
   "file_extension": ".py",
   "mimetype": "text/x-python",
   "name": "python",
   "nbconvert_exporter": "python",
   "pygments_lexer": "ipython3",
   "version": "3.10.9"
  }
 },
 "nbformat": 4,
 "nbformat_minor": 5
}
